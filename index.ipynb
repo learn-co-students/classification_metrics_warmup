{
 "cells": [
  {
   "cell_type": "markdown",
   "metadata": {},
   "source": [
    "# Classification Metrics"
   ]
  },
  {
   "cell_type": "code",
   "execution_count": 1,
   "metadata": {},
   "outputs": [],
   "source": [
    "#run as-is\n",
    "\n",
    "import pandas as pd\n",
    "\n",
    "from sklearn.datasets import make_classification\n",
    "\n",
    "from sklearn.preprocessing import StandardScaler\n",
    "\n",
    "from sklearn.linear_model import LogisticRegression\n",
    "from sklearn.metrics import confusion_matrix\n",
    "from sklearn.model_selection import train_test_split\n",
    "\n",
    "data = make_classification(n_samples=10000, random_state=666, n_informative=6)\n",
    "\n",
    "X = pd.DataFrame(data[0])\n",
    "y = data[1]\n",
    "\n",
    "data = X.copy()\n",
    "data['target'] = y"
   ]
  },
  {
   "cell_type": "code",
   "execution_count": 2,
   "metadata": {},
   "outputs": [],
   "source": [
    "#__SOLUTION__\n",
    "\n",
    "#run as-is\n",
    "\n",
    "import pandas as pd\n",
    "\n",
    "from sklearn.datasets import make_classification\n",
    "\n",
    "from sklearn.preprocessing import StandardScaler\n",
    "\n",
    "from sklearn.linear_model import LogisticRegression\n",
    "from sklearn.metrics import confusion_matrix\n",
    "from sklearn.model_selection import train_test_split\n",
    "\n",
    "data = make_classification(n_samples=10000, random_state=666, n_informative=6)\n",
    "\n",
    "X = pd.DataFrame(data[0])\n",
    "y = data[1]\n",
    "\n",
    "data = X.copy()\n",
    "data['target'] = y"
   ]
  },
  {
   "cell_type": "markdown",
   "metadata": {},
   "source": [
    "#### How many features in `data`?  How many classes?  Is there a class imbalance?"
   ]
  },
  {
   "cell_type": "code",
   "execution_count": 3,
   "metadata": {},
   "outputs": [],
   "source": [
    "#your work here"
   ]
  },
  {
   "cell_type": "code",
   "execution_count": 4,
   "metadata": {},
   "outputs": [
    {
     "data": {
      "text/plain": [
       "'\\n20\\n\\n2\\n\\nnope!\\n'"
      ]
     },
     "execution_count": 4,
     "metadata": {},
     "output_type": "execute_result"
    }
   ],
   "source": [
    "#__SOLUTION__\n",
    "\n",
    "\n",
    "\n",
    "'''\n",
    "20\n",
    "\n",
    "2\n",
    "\n",
    "nope!\n",
    "'''"
   ]
  },
  {
   "cell_type": "markdown",
   "metadata": {},
   "source": [
    "#### Train-test split (`random_state` = 42) and standard scale all features\n",
    "\n",
    "  - Why do we standardize *after* the train test split, and not before?\n",
    "\n",
    "  - Why do we scale the training data separately from the testing data?"
   ]
  },
  {
   "cell_type": "code",
   "execution_count": 5,
   "metadata": {},
   "outputs": [],
   "source": [
    "#your work here"
   ]
  },
  {
   "cell_type": "code",
   "execution_count": 6,
   "metadata": {},
   "outputs": [],
   "source": [
    "#__SOLUTION__\n",
    "\n",
    "X = data.iloc[:, :20]\n",
    "y = data['target']\n",
    "\n",
    "X_train, X_test, y_train, y_test = train_test_split(X, y, test_size=.2, random_state=42)\n",
    "\n",
    "scaler = StandardScaler()\n",
    "\n",
    "X_train = scaler.fit_transform(X_train)\n",
    "X_test = scaler.fit_transform(X_test)"
   ]
  },
  {
   "cell_type": "markdown",
   "metadata": {},
   "source": [
    "#### Create a logistic regression model with the first three features of the training data (with no regularization)"
   ]
  },
  {
   "cell_type": "code",
   "execution_count": 7,
   "metadata": {},
   "outputs": [],
   "source": [
    "#your work here"
   ]
  },
  {
   "cell_type": "code",
   "execution_count": 8,
   "metadata": {},
   "outputs": [
    {
     "data": {
      "text/plain": [
       "LogisticRegression(penalty='none')"
      ]
     },
     "execution_count": 8,
     "metadata": {},
     "output_type": "execute_result"
    }
   ],
   "source": [
    "#__SOLUTION__\n",
    "\n",
    "X_train_3 = (\n",
    "    pd.DataFrame(X_train)\n",
    "    .iloc[:,:3]\n",
    ")\n",
    "\n",
    "log_reg = LogisticRegression(penalty='none') \n",
    "\n",
    "log_reg.fit(X_train_3, y_train)"
   ]
  },
  {
   "cell_type": "markdown",
   "metadata": {},
   "source": [
    "#### Get predictions for this 3-feature model for the training data\n",
    "\n",
    "- Assign them to `train_preds_3`"
   ]
  },
  {
   "cell_type": "code",
   "execution_count": 9,
   "metadata": {},
   "outputs": [],
   "source": [
    "#your work here"
   ]
  },
  {
   "cell_type": "code",
   "execution_count": 10,
   "metadata": {},
   "outputs": [],
   "source": [
    "#__SOLUTION__\n",
    "\n",
    "train_preds_3 = log_reg.predict(X_train_3)"
   ]
  },
  {
   "cell_type": "markdown",
   "metadata": {},
   "source": [
    "#### Get predictions for this 3-feature model for the testing data\n",
    "\n",
    "- Assign them to `test_preds_3`"
   ]
  },
  {
   "cell_type": "code",
   "execution_count": 11,
   "metadata": {},
   "outputs": [],
   "source": [
    "#your work here"
   ]
  },
  {
   "cell_type": "code",
   "execution_count": 12,
   "metadata": {},
   "outputs": [],
   "source": [
    "#__SOLUTION__\n",
    "\n",
    "X_test_3 = (\n",
    "    pd.DataFrame(X_test)\n",
    "    .iloc[:,:3]\n",
    "\n",
    ")\n",
    "\n",
    "test_preds_3 = log_reg.predict(X_test_3)"
   ]
  },
  {
   "cell_type": "markdown",
   "metadata": {},
   "source": [
    "#### Generate two confusion matrices, one each for the training predictions and testing predictions"
   ]
  },
  {
   "cell_type": "code",
   "execution_count": 13,
   "metadata": {},
   "outputs": [],
   "source": [
    "#your work here"
   ]
  },
  {
   "cell_type": "code",
   "execution_count": 14,
   "metadata": {},
   "outputs": [
    {
     "name": "stdout",
     "output_type": "stream",
     "text": [
      "[[3016  979]\n",
      " [ 785 3220]]\n",
      "[[739 270]\n",
      " [186 805]]\n"
     ]
    }
   ],
   "source": [
    "#__SOLUTION__\n",
    "\n",
    "train_cm = confusion_matrix(y_train, train_preds_3)\n",
    "test_cm = confusion_matrix(y_test, test_preds_3)\n",
    "\n",
    "print(train_cm)\n",
    "print(test_cm)"
   ]
  },
  {
   "cell_type": "markdown",
   "metadata": {},
   "source": [
    "#### Calculate the accuracy, recall, and precision for the training predictions\n",
    "\n",
    "#### Calculate the accuracy, recall, and precision for the testing predictions"
   ]
  },
  {
   "cell_type": "code",
   "execution_count": 15,
   "metadata": {},
   "outputs": [],
   "source": [
    "#your work here"
   ]
  },
  {
   "cell_type": "code",
   "execution_count": 16,
   "metadata": {},
   "outputs": [
    {
     "name": "stdout",
     "output_type": "stream",
     "text": [
      "\n",
      "training \n",
      "accuracy: 0.7795\n",
      "precision: 0.766849249821386 \n",
      "recall: 0.8039950062421972\n",
      "\n",
      "\n",
      "\n",
      "test \n",
      "accuracy: 0.772\n",
      "precision: 0.7488372093023256 \n",
      "recall: 0.8123107971745711\n",
      "\n"
     ]
    }
   ],
   "source": [
    "#__SOLUTION__\n",
    "\n",
    "tn, fp, fn, tp = train_cm.ravel()\n",
    "\n",
    "print(f'''\n",
    "training \n",
    "accuracy: {(tn+tp)/len(X_train)}\n",
    "precision: {(tp)/(tp+fp)} \n",
    "recall: {tp/(tp+fn)}\n",
    "'''\n",
    ")\n",
    "print()\n",
    "\n",
    "tn, fp, fn, tp = test_cm.ravel()\n",
    "\n",
    "print(f'''\n",
    "test \n",
    "accuracy: {(tn+tp)/len(X_test)}\n",
    "precision: {(tp)/(tp+fp)} \n",
    "recall: {tp/(tp+fn)}\n",
    "'''\n",
    ")"
   ]
  },
  {
   "cell_type": "markdown",
   "metadata": {},
   "source": [
    "#### Is the model over- or under-fitting?  How can you tell?\n",
    "\n",
    "#### Is bias or variance more of a problem with this model?"
   ]
  },
  {
   "cell_type": "code",
   "execution_count": 17,
   "metadata": {},
   "outputs": [],
   "source": [
    "#your work here"
   ]
  },
  {
   "cell_type": "code",
   "execution_count": 18,
   "metadata": {},
   "outputs": [
    {
     "data": {
      "text/plain": [
       "\"\\nUnderfitting, because the train and test error are fairly close, \\nbut they're both low and can be improved\\n\\nBias, because the model's performance doesn't change much when \\nwe're predicting on new data vs the data the model was trained on,\\nbut the overall performance of the model is relatively poor\\n\\n\""
      ]
     },
     "execution_count": 18,
     "metadata": {},
     "output_type": "execute_result"
    }
   ],
   "source": [
    "#__SOLUTION__\n",
    "\n",
    "'''\n",
    "Underfitting, because the train and test error are fairly close, \n",
    "but they're both low and can be improved\n",
    "\n",
    "Bias, because the model's performance doesn't change much when \n",
    "we're predicting on new data vs the data the model was trained on,\n",
    "but the overall performance of the model is relatively poor\n",
    "\n",
    "'''"
   ]
  },
  {
   "cell_type": "markdown",
   "metadata": {},
   "source": [
    "#### Run models with the first 10 variables, then another model with all the variables\n",
    "  - Generate confusion matrices and calculate accuracy, precision and recall as you did above\n",
    "  - **BONUS**: use functions to do so!\n",
    "  \n",
    "#### How is the problem you diagnosed in the 3-variable model altered in the 10-variable and 20-variable models?\n",
    "\n",
    "#### What new problems crop up?"
   ]
  },
  {
   "cell_type": "code",
   "execution_count": 19,
   "metadata": {},
   "outputs": [],
   "source": [
    "#your work here"
   ]
  },
  {
   "cell_type": "code",
   "execution_count": 20,
   "metadata": {},
   "outputs": [
    {
     "name": "stdout",
     "output_type": "stream",
     "text": [
      "\n",
      "    training metrics for 10-variable model \n",
      "    accuracy: 0.870125\n",
      "    precision: 0.8544455066921606 \n",
      "    recall: 0.8926342072409488\n",
      "    \n",
      "\n",
      "\n",
      "    testing metrics for 10-variable model \n",
      "    accuracy: 0.8585\n",
      "    precision: 0.845703125 \n",
      "    recall: 0.8738647830474269\n",
      "    \n",
      "\n",
      "\n",
      "    training metrics for 20-variable model \n",
      "    accuracy: 0.872125\n",
      "    precision: 0.8556774809160306 \n",
      "    recall: 0.8956304619225968\n",
      "    \n",
      "\n",
      "\n",
      "    testing metrics for 20-variable model \n",
      "    accuracy: 0.857\n",
      "    precision: 0.8412391093901258 \n",
      "    recall: 0.8768920282542886\n",
      "    \n",
      "\n",
      "\n",
      "Underfitting is much less of a problem for the 10-variable and 20-variable models.\n",
      "\n",
      "Accuracy, precision and recall all took huge jumps into the range above 90%.\n",
      "\n",
      "The metrics for the 10-variable model are close together for the train and\n",
      "test set of the 10-variable model, indicating relatively low bias and variance\n",
      "\n",
      "The metrics for the 20-variable model are slighly further apart for the \n",
      "train and test set, indicating that overfitting is starting to creep\n",
      "in slightly.\n",
      "\n",
      "\n"
     ]
    }
   ],
   "source": [
    "#__SOLUTION__\n",
    "\n",
    "def make_cms(xtrain, xtest, ytrain, ytest, model_obj):\n",
    "    '''\n",
    "    returns train and test confusion matrices for a given model\n",
    "    '''\n",
    "    \n",
    "    model_obj.fit(xtrain, ytrain)\n",
    "    \n",
    "    preds_train = model_obj.predict(xtrain)\n",
    "    \n",
    "    preds_test = model_obj.predict(xtest)    \n",
    "    \n",
    "    cm_train = confusion_matrix(ytrain, preds_train)\n",
    "    \n",
    "    cm_test = confusion_matrix(ytest, preds_test)\n",
    "    \n",
    "    return cm_train, cm_test\n",
    "\n",
    "def cm_calcs(cm, label):\n",
    "    '''\n",
    "    calculate accuracy, precision and recall from a confusion matrix\n",
    "    '''\n",
    "    \n",
    "    tn, fp, fn, tp = cm.ravel()\n",
    "\n",
    "    print(f'''\n",
    "    {label} \n",
    "    accuracy: {(tn+tp)/(tn+tp+fn+fp)}\n",
    "    precision: {(tp)/(tp+fp)} \n",
    "    recall: {tp/(tp+fn)}\n",
    "    '''\n",
    "    )\n",
    "    print()\n",
    "    \n",
    "    return\n",
    "    \n",
    "    \n",
    "def model_calc(xtrain, xtest, ytrain, ytest, model_obj, train_label, test_label):\n",
    "    cm_train, cm_test = make_cms(xtrain, xtest, ytrain, ytest, model_obj)\n",
    "    \n",
    "    cm_calcs(cm_train, train_label)\n",
    "    cm_calcs(cm_test, test_label)\n",
    "    \n",
    "    return\n",
    "\n",
    "#10-feature model\n",
    "X_train_10 = pd.DataFrame(X_train).iloc[:,:10]\n",
    "X_test_10 = pd.DataFrame(X_test).iloc[:,:10]\n",
    "\n",
    "model_calc(X_train_10, X_test_10, y_train, y_test, \n",
    "           LogisticRegression(penalty='none'), \n",
    "          'training metrics for 10-variable model',\n",
    "          'testing metrics for 10-variable model')\n",
    "\n",
    "#20-feature model\n",
    "model_calc(X_train, X_test, y_train, y_test,\n",
    "           LogisticRegression(penalty='none'), \n",
    "          'training metrics for 20-variable model',\n",
    "          'testing metrics for 20-variable model')\n",
    "\n",
    "print('''\n",
    "Underfitting is much less of a problem for the 10-variable and 20-variable models.\n",
    "\n",
    "Accuracy, precision and recall all took huge jumps into the range above 90%.\n",
    "\n",
    "The metrics for the 10-variable model are close together for the train and\n",
    "test set of the 10-variable model, indicating relatively low bias and variance\n",
    "\n",
    "The metrics for the 20-variable model are slighly further apart for the \n",
    "train and test set, indicating that overfitting is starting to creep\n",
    "in slightly.\n",
    "\n",
    "''')"
   ]
  }
 ],
 "metadata": {
  "kernelspec": {
   "display_name": "Python 3",
   "language": "python",
   "name": "python3"
  },
  "language_info": {
   "codemirror_mode": {
    "name": "ipython",
    "version": 3
   },
   "file_extension": ".py",
   "mimetype": "text/x-python",
   "name": "python",
   "nbconvert_exporter": "python",
   "pygments_lexer": "ipython3",
   "version": "3.8.5"
  }
 },
 "nbformat": 4,
 "nbformat_minor": 4
}
